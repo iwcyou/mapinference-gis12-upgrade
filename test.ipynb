{
 "cells": [
  {
   "cell_type": "code",
   "execution_count": 6,
   "metadata": {},
   "outputs": [
    {
     "name": "stderr",
     "output_type": "stream",
     "text": [
      "trip_1109.txt: 100%|██████████| 283/283 [00:11<00:00, 25.37it/s]\n"
     ]
    }
   ],
   "source": [
    "#render geo coor gps to image\n",
    "\n",
    "import cv2\n",
    "import numpy as np\n",
    "import pandas as pd\n",
    "import os\n",
    "import pickle\n",
    "import sys\n",
    "sys.path.append('..')\n",
    "from coordinate_transform import wgs_to_gcj02_to_mercator\n",
    "from tqdm import tqdm\n",
    "\n",
    "\n",
    "# 示例GPS点数据，假设数据包含 'longitude' 和 'latitude' 列\n",
    "gps_path = \"datasets/trips_0_24\"\n",
    "iter = tqdm(os.listdir(gps_path))\n",
    "save_path = 'datasets/trips_0_24_image'\n",
    "if not os.path.isdir(save_path):\n",
    "    os.makedirs(save_path)\n",
    "\n",
    "# tile's coordinate bounds\n",
    "bounds_path = \"datasets/0_24_gps.txt\"\n",
    "with open(bounds_path, 'r') as f:\n",
    "    tile_bounds = eval(f.read())\n",
    "\n",
    "for gps_name in iter:\n",
    "    iter.set_description(gps_name)\n",
    "    gps_df = pd.read_csv(os.path.join(gps_path, gps_name), header=None)\n",
    "    gps_df.columns = ['id', 'lat', 'lon', 'time']\n",
    "    # 创建一个空白的1024x1024二值图像\n",
    "    img_size = 1024\n",
    "    binary_image = np.zeros((img_size, img_size), dtype=np.uint8)\n",
    "\n",
    "    # 映射GPS点到图像坐标系\n",
    "    for index, row in gps_df.iterrows():\n",
    "        # convert wgs84 to web mercator under gcj02\n",
    "        row['lon'], row['lat'] = wgs_to_gcj02_to_mercator(row['lon'], row['lat'])\n",
    "\n",
    "        if (tile_bounds['west'] <= row['lon'] <= tile_bounds['east'] and\n",
    "                tile_bounds['south'] <= row['lat'] <= tile_bounds['north']):\n",
    "\n",
    "            # 计算点在图像上的位置\n",
    "            x = int((row['lon'] - tile_bounds['west']) / (tile_bounds['east'] - tile_bounds['west']) * (img_size - 1))\n",
    "            y = int((tile_bounds['north'] - row['lat']) / (tile_bounds['north'] - tile_bounds['south']) * (img_size - 1))\n",
    "\n",
    "            # 设置对应位置为白色（255）\n",
    "            binary_image[y, x] = 255\n",
    "\n",
    "    # 保存图像\n",
    "    cv2.imwrite(f'{save_path}/{gps_name[:-4]}.png', binary_image)\n"
   ]
  },
  {
   "cell_type": "code",
   "execution_count": 1,
   "metadata": {},
   "outputs": [
    {
     "name": "stderr",
     "output_type": "stream",
     "text": [
      "trip_1109.txt: 100%|██████████| 283/283 [00:01<00:00, 183.64it/s]\n"
     ]
    },
    {
     "name": "stdout",
     "output_type": "stream",
     "text": [
      "Done!\n"
     ]
    }
   ],
   "source": [
    "# re arrange the traj data by time\n",
    "\n",
    "import cv2\n",
    "import numpy as np\n",
    "import pandas as pd\n",
    "import os\n",
    "import pickle\n",
    "import sys\n",
    "sys.path.append('..')\n",
    "from coordinate_transform import wgs_to_gcj02_to_mercator\n",
    "from tqdm import tqdm\n",
    "\n",
    "gps_path = \"datasets/trips_0_24\"\n",
    "iter = tqdm(os.listdir(gps_path))\n",
    "save_path = 'datasets/trips_0_24_sorted'\n",
    "if not os.path.isdir(save_path):\n",
    "    os.makedirs(save_path)\n",
    "\n",
    "for file_name in iter:\n",
    "    iter.set_description(file_name)\n",
    "    gps_df = pd.read_csv(os.path.join(gps_path, file_name), header=None)\n",
    "    gps_df.columns = ['id', 'lat', 'lon', 'time']\n",
    "    gps_df = gps_df.sort_values(by='time')\n",
    "    gps_df.to_csv(f'{save_path}/{file_name}', index=False, header=False)\n",
    "\n",
    "print(\"Done!\")"
   ]
  }
 ],
 "metadata": {
  "kernelspec": {
   "display_name": "kde",
   "language": "python",
   "name": "python3"
  },
  "language_info": {
   "codemirror_mode": {
    "name": "ipython",
    "version": 3
   },
   "file_extension": ".py",
   "mimetype": "text/x-python",
   "name": "python",
   "nbconvert_exporter": "python",
   "pygments_lexer": "ipython3",
   "version": "3.12.4"
  }
 },
 "nbformat": 4,
 "nbformat_minor": 2
}
